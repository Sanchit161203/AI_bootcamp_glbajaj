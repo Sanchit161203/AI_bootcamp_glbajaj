{
  "nbformat": 4,
  "nbformat_minor": 0,
  "metadata": {
    "colab": {
      "provenance": []
    },
    "kernelspec": {
      "name": "python3",
      "display_name": "Python 3"
    },
    "language_info": {
      "name": "python"
    }
  },
  "cells": [
    {
      "cell_type": "code",
      "execution_count": 2,
      "metadata": {
        "colab": {
          "base_uri": "https://localhost:8080/"
        },
        "id": "GqzKZch2O10G",
        "outputId": "5d4ee36c-c6b5-4b31-ecb9-ad7733b68057"
      },
      "outputs": [
        {
          "output_type": "stream",
          "name": "stdout",
          "text": [
            "enter the number 5\n",
            "enter the number 6\n",
            "enter operator -\n",
            "result =  -1\n"
          ]
        }
      ],
      "source": [
        "a=input(\"enter the number \")\n",
        "b=input(\"enter the number \")\n",
        "a=int(a)\n",
        "\n",
        "b=int(b)\n",
        "c=input(\"enter operator \")\n",
        "if(c=='+'):\n",
        "  print(\"result = \",a+b)\n",
        "elif(c=='-'):\n",
        "  print(\"result = \",a-b)\n",
        "elif(c=='*'):\n",
        "  print(\"result = \",a*b)\n",
        "elif(c=='/'):\n",
        "  print(\"result = \",a/b)\n",
        "else:\n",
        "  print(\"invalid choice\")"
      ]
    }
  ]
}